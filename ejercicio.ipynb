{
 "cells": [
  {
   "cell_type": "code",
   "execution_count": 3,
   "metadata": {},
   "outputs": [
    {
     "name": "stdout",
     "output_type": "stream",
     "text": [
      "cual es tu nombre?: ivano\n",
      "\n",
      "como estas? ivano, que bueno que estes por acá!\n",
      "\n",
      "Presioná 'ENTER' para terminar el dialogo\n",
      "cual es tu apellido?: concha arevalo\n",
      "ivano concha arevalo\n",
      "\n",
      "Chau \n",
      "Chau !!!\n"
     ]
    }
   ],
   "source": [
    "nombre = input (\"cual es tu nombre?: \")\n",
    "print (\"\\ncomo estas? \" + nombre + \", que bueno que estes por acá!\")\n",
    "\n",
    "print (\"\\nPresioná 'ENTER' para terminar el dialogo\")\n",
    "\n",
    "apellido = input (\"cual es tu apellido?: \")\n",
    "print (nombre + \" \" + apellido)\n",
    "print (\"\\nChau \" *2 + \"!!!\")"
   ]
  },
  {
   "cell_type": "code",
   "execution_count": null,
   "metadata": {},
   "outputs": [],
   "source": []
  }
 ],
 "metadata": {
  "kernelspec": {
   "display_name": "Python 3",
   "language": "python",
   "name": "python3"
  },
  "language_info": {
   "codemirror_mode": {
    "name": "ipython",
    "version": 3
   },
   "file_extension": ".py",
   "mimetype": "text/x-python",
   "name": "python",
   "nbconvert_exporter": "python",
   "pygments_lexer": "ipython3",
   "version": "3.8.3"
  }
 },
 "nbformat": 4,
 "nbformat_minor": 4
}
